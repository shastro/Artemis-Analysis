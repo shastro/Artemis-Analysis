{
 "cells": [
  {
   "cell_type": "code",
   "execution_count": 41,
   "metadata": {},
   "outputs": [],
   "source": [
    "import sys\n",
    "import matplotlib.pyplot as plt\n",
    "import numpy as np\n",
    "import pandas as pd\n",
    "from scipy.stats import gaussian_kde\n",
    "from sklearn.cluster import Birch, DBSCAN\n",
    "from mpl_toolkits.mplot3d import Axes3D\n",
    "from matplotlib.colors import LogNorm"
   ]
  },
  {
   "cell_type": "code",
   "execution_count": 2,
   "metadata": {},
   "outputs": [],
   "source": [
    "df = pd.read_csv(\"hit_data.csv\")"
   ]
  },
  {
   "cell_type": "code",
   "execution_count": 3,
   "metadata": {},
   "outputs": [],
   "source": [
    "# plt.ioff()"
   ]
  },
  {
   "cell_type": "code",
   "execution_count": 4,
   "metadata": {},
   "outputs": [],
   "source": [
    "df.drop(df.columns[[7, 21,22,23,24,25]],axis=1, inplace=True)\n",
    "# df.columns[[7, 21,22,23,24,25]]"
   ]
  },
  {
   "cell_type": "code",
   "execution_count": 5,
   "metadata": {},
   "outputs": [
    {
     "data": {
      "text/html": [
       "<div>\n",
       "<style scoped>\n",
       "    .dataframe tbody tr th:only-of-type {\n",
       "        vertical-align: middle;\n",
       "    }\n",
       "\n",
       "    .dataframe tbody tr th {\n",
       "        vertical-align: top;\n",
       "    }\n",
       "\n",
       "    .dataframe thead th {\n",
       "        text-align: right;\n",
       "    }\n",
       "</style>\n",
       "<table border=\"1\" class=\"dataframe\">\n",
       "  <thead>\n",
       "    <tr style=\"text-align: right;\">\n",
       "      <th></th>\n",
       "      <th>ID</th>\n",
       "      <th>Time (s)</th>\n",
       "      <th>CH</th>\n",
       "      <th>RISE</th>\n",
       "      <th>COUN</th>\n",
       "      <th>ENER</th>\n",
       "      <th>DURATION</th>\n",
       "      <th>A-FRQ</th>\n",
       "      <th>ASL</th>\n",
       "      <th>PCNTS</th>\n",
       "      <th>THR</th>\n",
       "      <th>R-FRQ</th>\n",
       "      <th>I-FRQ</th>\n",
       "      <th>SIG STRNGTH</th>\n",
       "      <th>Cumulative Energy</th>\n",
       "      <th>P-FRQ</th>\n",
       "      <th>Hit Count</th>\n",
       "      <th>AMP</th>\n",
       "      <th>ABS-ENERGY</th>\n",
       "      <th>FRQ-C</th>\n",
       "    </tr>\n",
       "  </thead>\n",
       "  <tbody>\n",
       "    <tr>\n",
       "      <th>0</th>\n",
       "      <td>1</td>\n",
       "      <td>0.050333</td>\n",
       "      <td>1</td>\n",
       "      <td>0</td>\n",
       "      <td>1</td>\n",
       "      <td>0</td>\n",
       "      <td>6</td>\n",
       "      <td>167</td>\n",
       "      <td>22</td>\n",
       "      <td>1</td>\n",
       "      <td>35</td>\n",
       "      <td>0</td>\n",
       "      <td>1000</td>\n",
       "      <td>207.0</td>\n",
       "      <td>1.12</td>\n",
       "      <td>200</td>\n",
       "      <td>1</td>\n",
       "      <td>36</td>\n",
       "      <td>1</td>\n",
       "      <td>657</td>\n",
       "    </tr>\n",
       "    <tr>\n",
       "      <th>1</th>\n",
       "      <td>1</td>\n",
       "      <td>0.053295</td>\n",
       "      <td>1</td>\n",
       "      <td>0</td>\n",
       "      <td>1</td>\n",
       "      <td>0</td>\n",
       "      <td>0</td>\n",
       "      <td>0</td>\n",
       "      <td>22</td>\n",
       "      <td>1</td>\n",
       "      <td>35</td>\n",
       "      <td>0</td>\n",
       "      <td>1000</td>\n",
       "      <td>0.0</td>\n",
       "      <td>1.12</td>\n",
       "      <td>4</td>\n",
       "      <td>2</td>\n",
       "      <td>35</td>\n",
       "      <td>0</td>\n",
       "      <td>618</td>\n",
       "    </tr>\n",
       "    <tr>\n",
       "      <th>2</th>\n",
       "      <td>1</td>\n",
       "      <td>3.730839</td>\n",
       "      <td>1</td>\n",
       "      <td>0</td>\n",
       "      <td>2</td>\n",
       "      <td>0</td>\n",
       "      <td>21</td>\n",
       "      <td>95</td>\n",
       "      <td>23</td>\n",
       "      <td>1</td>\n",
       "      <td>35</td>\n",
       "      <td>50</td>\n",
       "      <td>1000</td>\n",
       "      <td>540.0</td>\n",
       "      <td>3.15</td>\n",
       "      <td>43</td>\n",
       "      <td>3</td>\n",
       "      <td>36</td>\n",
       "      <td>2</td>\n",
       "      <td>569</td>\n",
       "    </tr>\n",
       "    <tr>\n",
       "      <th>3</th>\n",
       "      <td>1</td>\n",
       "      <td>5.699318</td>\n",
       "      <td>1</td>\n",
       "      <td>0</td>\n",
       "      <td>1</td>\n",
       "      <td>0</td>\n",
       "      <td>0</td>\n",
       "      <td>0</td>\n",
       "      <td>23</td>\n",
       "      <td>1</td>\n",
       "      <td>35</td>\n",
       "      <td>0</td>\n",
       "      <td>1000</td>\n",
       "      <td>21.4</td>\n",
       "      <td>3.28</td>\n",
       "      <td>200</td>\n",
       "      <td>4</td>\n",
       "      <td>35</td>\n",
       "      <td>0</td>\n",
       "      <td>643</td>\n",
       "    </tr>\n",
       "    <tr>\n",
       "      <th>4</th>\n",
       "      <td>1</td>\n",
       "      <td>7.776408</td>\n",
       "      <td>1</td>\n",
       "      <td>6</td>\n",
       "      <td>2</td>\n",
       "      <td>0</td>\n",
       "      <td>13</td>\n",
       "      <td>154</td>\n",
       "      <td>22</td>\n",
       "      <td>1</td>\n",
       "      <td>35</td>\n",
       "      <td>166</td>\n",
       "      <td>166</td>\n",
       "      <td>454.0</td>\n",
       "      <td>5.34</td>\n",
       "      <td>141</td>\n",
       "      <td>5</td>\n",
       "      <td>36</td>\n",
       "      <td>2</td>\n",
       "      <td>603</td>\n",
       "    </tr>\n",
       "    <tr>\n",
       "      <th>...</th>\n",
       "      <td>...</td>\n",
       "      <td>...</td>\n",
       "      <td>...</td>\n",
       "      <td>...</td>\n",
       "      <td>...</td>\n",
       "      <td>...</td>\n",
       "      <td>...</td>\n",
       "      <td>...</td>\n",
       "      <td>...</td>\n",
       "      <td>...</td>\n",
       "      <td>...</td>\n",
       "      <td>...</td>\n",
       "      <td>...</td>\n",
       "      <td>...</td>\n",
       "      <td>...</td>\n",
       "      <td>...</td>\n",
       "      <td>...</td>\n",
       "      <td>...</td>\n",
       "      <td>...</td>\n",
       "      <td>...</td>\n",
       "    </tr>\n",
       "    <tr>\n",
       "      <th>6940</th>\n",
       "      <td>1</td>\n",
       "      <td>6121.998183</td>\n",
       "      <td>1</td>\n",
       "      <td>127</td>\n",
       "      <td>2</td>\n",
       "      <td>0</td>\n",
       "      <td>127</td>\n",
       "      <td>16</td>\n",
       "      <td>23</td>\n",
       "      <td>2</td>\n",
       "      <td>35</td>\n",
       "      <td>0</td>\n",
       "      <td>15</td>\n",
       "      <td>2310.0</td>\n",
       "      <td>271000.00</td>\n",
       "      <td>39</td>\n",
       "      <td>6941</td>\n",
       "      <td>35</td>\n",
       "      <td>8</td>\n",
       "      <td>624</td>\n",
       "    </tr>\n",
       "    <tr>\n",
       "      <th>6941</th>\n",
       "      <td>1</td>\n",
       "      <td>6122.836514</td>\n",
       "      <td>1</td>\n",
       "      <td>0</td>\n",
       "      <td>1</td>\n",
       "      <td>0</td>\n",
       "      <td>0</td>\n",
       "      <td>0</td>\n",
       "      <td>23</td>\n",
       "      <td>1</td>\n",
       "      <td>35</td>\n",
       "      <td>0</td>\n",
       "      <td>1000</td>\n",
       "      <td>0.0</td>\n",
       "      <td>271000.00</td>\n",
       "      <td>34</td>\n",
       "      <td>6942</td>\n",
       "      <td>35</td>\n",
       "      <td>0</td>\n",
       "      <td>713</td>\n",
       "    </tr>\n",
       "    <tr>\n",
       "      <th>6942</th>\n",
       "      <td>1</td>\n",
       "      <td>6122.935455</td>\n",
       "      <td>1</td>\n",
       "      <td>0</td>\n",
       "      <td>1</td>\n",
       "      <td>0</td>\n",
       "      <td>0</td>\n",
       "      <td>0</td>\n",
       "      <td>23</td>\n",
       "      <td>1</td>\n",
       "      <td>35</td>\n",
       "      <td>0</td>\n",
       "      <td>1000</td>\n",
       "      <td>0.0</td>\n",
       "      <td>271000.00</td>\n",
       "      <td>53</td>\n",
       "      <td>6943</td>\n",
       "      <td>35</td>\n",
       "      <td>0</td>\n",
       "      <td>671</td>\n",
       "    </tr>\n",
       "    <tr>\n",
       "      <th>6943</th>\n",
       "      <td>1</td>\n",
       "      <td>6125.220805</td>\n",
       "      <td>1</td>\n",
       "      <td>0</td>\n",
       "      <td>1</td>\n",
       "      <td>0</td>\n",
       "      <td>0</td>\n",
       "      <td>0</td>\n",
       "      <td>23</td>\n",
       "      <td>1</td>\n",
       "      <td>35</td>\n",
       "      <td>0</td>\n",
       "      <td>1000</td>\n",
       "      <td>6.1</td>\n",
       "      <td>271000.00</td>\n",
       "      <td>4</td>\n",
       "      <td>6944</td>\n",
       "      <td>35</td>\n",
       "      <td>0</td>\n",
       "      <td>594</td>\n",
       "    </tr>\n",
       "    <tr>\n",
       "      <th>6944</th>\n",
       "      <td>1</td>\n",
       "      <td>6125.500240</td>\n",
       "      <td>1</td>\n",
       "      <td>0</td>\n",
       "      <td>2</td>\n",
       "      <td>0</td>\n",
       "      <td>38</td>\n",
       "      <td>53</td>\n",
       "      <td>23</td>\n",
       "      <td>1</td>\n",
       "      <td>35</td>\n",
       "      <td>27</td>\n",
       "      <td>1000</td>\n",
       "      <td>625.0</td>\n",
       "      <td>271000.00</td>\n",
       "      <td>185</td>\n",
       "      <td>6945</td>\n",
       "      <td>36</td>\n",
       "      <td>2</td>\n",
       "      <td>607</td>\n",
       "    </tr>\n",
       "  </tbody>\n",
       "</table>\n",
       "<p>6945 rows × 20 columns</p>\n",
       "</div>"
      ],
      "text/plain": [
       "      ID     Time (s)  CH  RISE  COUN  ENER  DURATION  A-FRQ  ASL  PCNTS  THR  \\\n",
       "0      1     0.050333   1     0     1     0         6    167   22      1   35   \n",
       "1      1     0.053295   1     0     1     0         0      0   22      1   35   \n",
       "2      1     3.730839   1     0     2     0        21     95   23      1   35   \n",
       "3      1     5.699318   1     0     1     0         0      0   23      1   35   \n",
       "4      1     7.776408   1     6     2     0        13    154   22      1   35   \n",
       "...   ..          ...  ..   ...   ...   ...       ...    ...  ...    ...  ...   \n",
       "6940   1  6121.998183   1   127     2     0       127     16   23      2   35   \n",
       "6941   1  6122.836514   1     0     1     0         0      0   23      1   35   \n",
       "6942   1  6122.935455   1     0     1     0         0      0   23      1   35   \n",
       "6943   1  6125.220805   1     0     1     0         0      0   23      1   35   \n",
       "6944   1  6125.500240   1     0     2     0        38     53   23      1   35   \n",
       "\n",
       "      R-FRQ  I-FRQ  SIG STRNGTH  Cumulative Energy  P-FRQ  Hit Count  AMP  \\\n",
       "0         0   1000        207.0               1.12    200          1   36   \n",
       "1         0   1000          0.0               1.12      4          2   35   \n",
       "2        50   1000        540.0               3.15     43          3   36   \n",
       "3         0   1000         21.4               3.28    200          4   35   \n",
       "4       166    166        454.0               5.34    141          5   36   \n",
       "...     ...    ...          ...                ...    ...        ...  ...   \n",
       "6940      0     15       2310.0          271000.00     39       6941   35   \n",
       "6941      0   1000          0.0          271000.00     34       6942   35   \n",
       "6942      0   1000          0.0          271000.00     53       6943   35   \n",
       "6943      0   1000          6.1          271000.00      4       6944   35   \n",
       "6944     27   1000        625.0          271000.00    185       6945   36   \n",
       "\n",
       "      ABS-ENERGY  FRQ-C  \n",
       "0              1    657  \n",
       "1              0    618  \n",
       "2              2    569  \n",
       "3              0    643  \n",
       "4              2    603  \n",
       "...          ...    ...  \n",
       "6940           8    624  \n",
       "6941           0    713  \n",
       "6942           0    671  \n",
       "6943           0    594  \n",
       "6944           2    607  \n",
       "\n",
       "[6945 rows x 20 columns]"
      ]
     },
     "execution_count": 5,
     "metadata": {},
     "output_type": "execute_result"
    }
   ],
   "source": [
    "df"
   ]
  },
  {
   "cell_type": "code",
   "execution_count": 6,
   "metadata": {},
   "outputs": [],
   "source": [
    "def scatter_from_colname(xname, yname, df):\n",
    "    xdata = df[xname].to_numpy()\n",
    "    ydata = df[yname].to_numpy()\n",
    "    fig, ax = plt.subplots(1)\n",
    "    ax.scatter(xdata, ydata, s=0.5)\n",
    "    ax.set_xlabel(xname)\n",
    "    ax.set_ylabel(yname)\n",
    "#     plt.savefig(\"./cluster_plots/\" + yname + \"_vs_\" + xname + \".png\")\n",
    "\n",
    "def scatter_3d(xname, yname,zname, df):\n",
    "    fig = plt.figure()\n",
    "    fig.set_size_inches(10,6)\n",
    "    ax = fig.add_subplot(111, projection='3d')\n",
    "    xdata = df[xname].to_numpy()\n",
    "    ydata = df[yname].to_numpy()\n",
    "    zdata = df[zname].to_numpy()\n",
    "    ax.scatter(xdata, ydata, zdata, s=0.6)\n",
    "    ax.set_xlabel(xname)\n",
    "    ax.set_ylabel(yname)\n",
    "    ax.set_zlabel(zname)\n",
    "#     plt.savefig(\"./3d_cluster/\" + yname + \"_vs_\" + xname + \"vs\" + zname + \".png\", dpi=200)\n",
    "    \n",
    "def density_plot(xname, yname, df):\n",
    "    xdata = df[xname].to_numpy()\n",
    "    ydata = df[yname].to_numpy()\n",
    "    fig, ax = plt.subplots(1)\n",
    "    ax.hist2d(xdata, ydata, (150, 150), cmap=plt.cm.jet, norm=LogNorm())\n",
    "    ax.set_xlabel(xname)\n",
    "    ax.set_ylabel(yname)"
   ]
  },
  {
   "cell_type": "code",
   "execution_count": 7,
   "metadata": {},
   "outputs": [],
   "source": [
    "# scatter_3d(\"P-FRQ\", \"FRQ-C\",\"Hit Count\", df)"
   ]
  },
  {
   "cell_type": "code",
   "execution_count": 8,
   "metadata": {},
   "outputs": [
    {
     "data": {
      "image/png": "[encoded data removed]",
      "text/plain": [
       "<Figure size 432x288 with 1 Axes>"
      ]
     },
     "metadata": {
      "needs_background": "light"
     },
     "output_type": "display_data"
    }
   ],
   "source": [
    "scatter_from_colname(\"ABS-ENERGY\", \"FRQ-C\",df)"
   ]
  },
  {
   "cell_type": "code",
   "execution_count": 9,
   "metadata": {},
   "outputs": [
    {
     "data": {
      "image/png": "[encoded data removed]",
      "text/plain": [
       "<Figure size 432x288 with 1 Axes>"
      ]
     },
     "metadata": {
      "needs_background": "light"
     },
     "output_type": "display_data"
    }
   ],
   "source": [
    "scatter_from_colname(\"P-FRQ\", \"FRQ-C\",df)"
   ]
  },
  {
   "cell_type": "code",
   "execution_count": 10,
   "metadata": {},
   "outputs": [
    {
     "data": {
      "image/png": "[encoded data removed]",
      "text/plain": [
       "<Figure size 432x288 with 1 Axes>"
      ]
     },
     "metadata": {
      "needs_background": "light"
     },
     "output_type": "display_data"
    }
   ],
   "source": [
    "scatter_from_colname(\"Hit Count\", \"AMP\", df)"
   ]
  },
  {
   "cell_type": "code",
   "execution_count": 11,
   "metadata": {},
   "outputs": [
    {
     "name": "stdout",
     "output_type": "stream",
     "text": [
      "Index(['Time (s)', 'RISE', 'ENER', 'DURATION', 'A-FRQ', 'ASL', 'R-FRQ',\n",
      "       'I-FRQ', 'SIG STRNGTH', 'Cumulative Energy', 'P-FRQ', 'Hit Count',\n",
      "       'AMP', 'ABS-ENERGY', 'FRQ-C'],\n",
      "      dtype='object')\n",
      "1135\n"
     ]
    }
   ],
   "source": [
    "names = df.columns.drop([\"ID\", \"CH\", \"THR\",\"PCNTS\", \"COUN\"])\n",
    "print(names)\n",
    "count = 0\n",
    "dropped_names_1 = []\n",
    "dropped_names_2 = []\n",
    "for c1 in names:\n",
    "    for c2 in names.drop(dropped_names_1):\n",
    "        for c3 in names.drop(dropped_names_1):\n",
    "            count+= 1\n",
    "#             scatter_3d(c1, c2, c3, df)\n",
    "#             print(c1, c2, c3)\n",
    "            dropped_names_2.append(c2)\n",
    "        dropped_names_1.append(c1)\n",
    "print(count)"
   ]
  },
  {
   "cell_type": "code",
   "execution_count": 12,
   "metadata": {},
   "outputs": [
    {
     "data": {
      "text/plain": [
       "15"
      ]
     },
     "execution_count": 12,
     "metadata": {},
     "output_type": "execute_result"
    }
   ],
   "source": [
    "len(df.columns.drop([\"ID\", \"CH\", \"THR\",\"PCNTS\", \"COUN\"]))"
   ]
  },
  {
   "cell_type": "code",
   "execution_count": 13,
   "metadata": {},
   "outputs": [],
   "source": [
    "names = df.columns.drop([\"ID\", \"CH\", \"THR\"])\n",
    "count = 0\n",
    "dropped_names = []\n",
    "for c1 in names:\n",
    "    for c2 in names.drop(dropped_names):\n",
    "        count+= 1\n",
    "#         print(c1, c2)\n",
    "#         dropped_names.append(c1)\n",
    "#         scatter_from_colname(c1, c2, df)\n",
    "# print(count)"
   ]
  },
  {
   "cell_type": "code",
   "execution_count": 14,
   "metadata": {},
   "outputs": [
    {
     "data": {
      "image/png": "[encoded data removed]",
      "text/plain": [
       "<Figure size 432x288 with 1 Axes>"
      ]
     },
     "metadata": {
      "needs_background": "light"
     },
     "output_type": "display_data"
    }
   ],
   "source": [
    "# Calculate the point density\n",
    "# xy = np.vstack([p_frq,frq_c])\n",
    "# z = gaussian_kde(xy)(xy)\n",
    "\n",
    "# Sort the points by density, so that the densest points are plotted last\n",
    "# idx = z.argsort()\n",
    "# x, y, z = p_frq[idx], frq_c[idx], z[idx]\n",
    "density_plot(\"P-FRQ\", \"FRQ-C\", df)\n"
   ]
  },
  {
   "cell_type": "markdown",
   "metadata": {},
   "source": [
    "### Now Running Clustering on the Data "
   ]
  },
  {
   "cell_type": "code",
   "execution_count": 64,
   "metadata": {},
   "outputs": [
    {
     "data": {
      "image/png": "[encoded data removed]",
      "text/plain": [
       "<Figure size 432x288 with 1 Axes>"
      ]
     },
     "metadata": {
      "needs_background": "light"
     },
     "output_type": "display_data"
    }
   ],
   "source": [
    "fig, ax = plt.subplots(1)\n",
    "model = Birch(threshold=0.001, n_clusters=3)\n",
    "# fit the model\n",
    "xdata = df[\"P-FRQ\"].to_numpy()\n",
    "ydata = df[\"FRQ-C\"].to_numpy()\n",
    "X = np.column_stack((xdata, ydata))\n",
    "epsilon = 9.9\n",
    "model = DBSCAN(eps=epsilon, min_samples=9)\n",
    "# fit model and predict clusters\n",
    "yhat = model.fit_predict(X)\n",
    "# retrieve unique clusters\n",
    "clusters = np.unique(yhat)\n",
    "# create scatter plot for samples from each cluster\n",
    "for cluster in clusters:\n",
    "\t# get row indexes for samples with this cluster\n",
    "\trow_ix = np.where(yhat == cluster)\n",
    "\t# create scatter of these samples\n",
    "\tax.scatter(X[row_ix, 0], X[row_ix, 1], s=0.7)\n",
    "\n",
    "ax.set_xlabel(\"P-FRQ\")\n",
    "ax.set_ylabel(\"FRQ-C\")\n",
    "ax.set_title(f\"DBSCAN Clustering ep {epsilon}\")\n",
    "# show the plot\n",
    "plt.show()"
   ]
  },
  {
   "cell_type": "code",
   "execution_count": null,
   "metadata": {},
   "outputs": [],
   "source": []
  }
 ],
 "metadata": {
  "kernelspec": {
   "display_name": "Python 3",
   "language": "python",
   "name": "python3"
  },
  "language_info": {
   "codemirror_mode": {
    "name": "ipython",
    "version": 3
   },
   "file_extension": ".py",
   "mimetype": "text/x-python",
   "name": "python",
   "nbconvert_exporter": "python",
   "pygments_lexer": "ipython3",
   "version": "3.6.9"
  }
 },
 "nbformat": 4,
 "nbformat_minor": 4
}
